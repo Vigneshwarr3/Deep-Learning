{
 "cells": [
  {
   "cell_type": "code",
   "execution_count": 1,
   "id": "904700f4-62c0-48e2-b378-672731dffda6",
   "metadata": {},
   "outputs": [],
   "source": [
    "import pandas as pd\n",
    "import numpy as np\n",
    "import re\n",
    "import random\n",
    "\n",
    "import tensorflow as tf\n",
    "from sklearn.model_selection import train_test_split\n",
    "from sklearn.preprocessing import LabelEncoder\n",
    "from tensorflow.keras.preprocessing.sequence import pad_sequences\n",
    "from tensorflow.keras.utils import to_categorical\n",
    "from tensorflow.keras.models import Sequential\n",
    "from tensorflow.keras.layers import SimpleRNN, LSTM, GRU, Dense, Embedding, Input, Dropout\n",
    "from tensorflow.keras.optimizers import Adam\n",
    "from sklearn.metrics import accuracy_score\n",
    "\n",
    "from tensorflow.keras.losses import SparseCategoricalCrossentropy"
   ]
  },
  {
   "cell_type": "code",
   "execution_count": 2,
   "id": "caff43dc-8379-4de6-bc07-08f0479a5edf",
   "metadata": {},
   "outputs": [],
   "source": [
    "df = pd.read_csv('name_gender.csv')"
   ]
  },
  {
   "cell_type": "code",
   "execution_count": 3,
   "id": "faac56d0-b2a1-4976-ab79-e104efc17486",
   "metadata": {},
   "outputs": [
    {
     "data": {
      "text/html": [
       "<div>\n",
       "<style scoped>\n",
       "    .dataframe tbody tr th:only-of-type {\n",
       "        vertical-align: middle;\n",
       "    }\n",
       "\n",
       "    .dataframe tbody tr th {\n",
       "        vertical-align: top;\n",
       "    }\n",
       "\n",
       "    .dataframe thead th {\n",
       "        text-align: right;\n",
       "    }\n",
       "</style>\n",
       "<table border=\"1\" class=\"dataframe\">\n",
       "  <thead>\n",
       "    <tr style=\"text-align: right;\">\n",
       "      <th></th>\n",
       "      <th>name</th>\n",
       "      <th>gender</th>\n",
       "      <th>probability</th>\n",
       "    </tr>\n",
       "  </thead>\n",
       "  <tbody>\n",
       "    <tr>\n",
       "      <th>0</th>\n",
       "      <td>Aaban</td>\n",
       "      <td>M</td>\n",
       "      <td>1.0</td>\n",
       "    </tr>\n",
       "    <tr>\n",
       "      <th>1</th>\n",
       "      <td>Aabha</td>\n",
       "      <td>F</td>\n",
       "      <td>1.0</td>\n",
       "    </tr>\n",
       "    <tr>\n",
       "      <th>2</th>\n",
       "      <td>Aabid</td>\n",
       "      <td>M</td>\n",
       "      <td>1.0</td>\n",
       "    </tr>\n",
       "    <tr>\n",
       "      <th>3</th>\n",
       "      <td>Aabriella</td>\n",
       "      <td>F</td>\n",
       "      <td>1.0</td>\n",
       "    </tr>\n",
       "    <tr>\n",
       "      <th>4</th>\n",
       "      <td>Aada</td>\n",
       "      <td>F</td>\n",
       "      <td>1.0</td>\n",
       "    </tr>\n",
       "  </tbody>\n",
       "</table>\n",
       "</div>"
      ],
      "text/plain": [
       "        name gender  probability\n",
       "0      Aaban      M          1.0\n",
       "1      Aabha      F          1.0\n",
       "2      Aabid      M          1.0\n",
       "3  Aabriella      F          1.0\n",
       "4       Aada      F          1.0"
      ]
     },
     "execution_count": 3,
     "metadata": {},
     "output_type": "execute_result"
    }
   ],
   "source": [
    "df.head()"
   ]
  },
  {
   "cell_type": "markdown",
   "id": "c7f0be58-c0f7-483e-b7d2-21b91f33eb9f",
   "metadata": {},
   "source": [
    "## Checking if there is any rows with null values and removing them"
   ]
  },
  {
   "cell_type": "code",
   "execution_count": 4,
   "id": "ceba002b-76dd-403b-bc11-96e449714e89",
   "metadata": {},
   "outputs": [
    {
     "data": {
      "text/html": [
       "<div>\n",
       "<style scoped>\n",
       "    .dataframe tbody tr th:only-of-type {\n",
       "        vertical-align: middle;\n",
       "    }\n",
       "\n",
       "    .dataframe tbody tr th {\n",
       "        vertical-align: top;\n",
       "    }\n",
       "\n",
       "    .dataframe thead th {\n",
       "        text-align: right;\n",
       "    }\n",
       "</style>\n",
       "<table border=\"1\" class=\"dataframe\">\n",
       "  <thead>\n",
       "    <tr style=\"text-align: right;\">\n",
       "      <th></th>\n",
       "      <th>name</th>\n",
       "      <th>gender</th>\n",
       "      <th>probability</th>\n",
       "    </tr>\n",
       "  </thead>\n",
       "  <tbody>\n",
       "    <tr>\n",
       "      <th>95025</th>\n",
       "      <td>undefined</td>\n",
       "      <td>F</td>\n",
       "      <td>NaN</td>\n",
       "    </tr>\n",
       "  </tbody>\n",
       "</table>\n",
       "</div>"
      ],
      "text/plain": [
       "            name gender  probability\n",
       "95025  undefined      F          NaN"
      ]
     },
     "execution_count": 4,
     "metadata": {},
     "output_type": "execute_result"
    }
   ],
   "source": [
    "df[df.isna().any(axis=1)]"
   ]
  },
  {
   "cell_type": "code",
   "execution_count": 5,
   "id": "e9e37c9a-df89-4966-aab3-b3e2e209a8e4",
   "metadata": {},
   "outputs": [],
   "source": [
    "df = df.dropna()"
   ]
  },
  {
   "cell_type": "markdown",
   "id": "4ced6a14-2862-4842-96d9-04c29fc0e657",
   "metadata": {},
   "source": [
    "## Preprocessing"
   ]
  },
  {
   "cell_type": "code",
   "execution_count": 6,
   "id": "f13a1585-231d-4cd8-9c3a-0d73188fb948",
   "metadata": {},
   "outputs": [],
   "source": [
    "def clean_name(name):\n",
    "    return re.sub(r'[^a-zA-Z]', '', name.lower())"
   ]
  },
  {
   "cell_type": "code",
   "execution_count": 7,
   "id": "9b9f03dc-cb82-44e3-8087-c6bc28a8e1bd",
   "metadata": {},
   "outputs": [],
   "source": [
    "df['name'] = df['name'].apply(clean_name)"
   ]
  },
  {
   "cell_type": "code",
   "execution_count": 8,
   "id": "ab1b3350-078d-46b1-b7cd-4dbf0a28f8d1",
   "metadata": {},
   "outputs": [
    {
     "data": {
      "text/html": [
       "<div>\n",
       "<style scoped>\n",
       "    .dataframe tbody tr th:only-of-type {\n",
       "        vertical-align: middle;\n",
       "    }\n",
       "\n",
       "    .dataframe tbody tr th {\n",
       "        vertical-align: top;\n",
       "    }\n",
       "\n",
       "    .dataframe thead th {\n",
       "        text-align: right;\n",
       "    }\n",
       "</style>\n",
       "<table border=\"1\" class=\"dataframe\">\n",
       "  <thead>\n",
       "    <tr style=\"text-align: right;\">\n",
       "      <th></th>\n",
       "      <th>name</th>\n",
       "      <th>gender</th>\n",
       "      <th>probability</th>\n",
       "    </tr>\n",
       "  </thead>\n",
       "  <tbody>\n",
       "    <tr>\n",
       "      <th>0</th>\n",
       "      <td>aaban</td>\n",
       "      <td>M</td>\n",
       "      <td>1.0</td>\n",
       "    </tr>\n",
       "    <tr>\n",
       "      <th>1</th>\n",
       "      <td>aabha</td>\n",
       "      <td>F</td>\n",
       "      <td>1.0</td>\n",
       "    </tr>\n",
       "    <tr>\n",
       "      <th>2</th>\n",
       "      <td>aabid</td>\n",
       "      <td>M</td>\n",
       "      <td>1.0</td>\n",
       "    </tr>\n",
       "    <tr>\n",
       "      <th>3</th>\n",
       "      <td>aabriella</td>\n",
       "      <td>F</td>\n",
       "      <td>1.0</td>\n",
       "    </tr>\n",
       "    <tr>\n",
       "      <th>4</th>\n",
       "      <td>aada</td>\n",
       "      <td>F</td>\n",
       "      <td>1.0</td>\n",
       "    </tr>\n",
       "  </tbody>\n",
       "</table>\n",
       "</div>"
      ],
      "text/plain": [
       "        name gender  probability\n",
       "0      aaban      M          1.0\n",
       "1      aabha      F          1.0\n",
       "2      aabid      M          1.0\n",
       "3  aabriella      F          1.0\n",
       "4       aada      F          1.0"
      ]
     },
     "execution_count": 8,
     "metadata": {},
     "output_type": "execute_result"
    }
   ],
   "source": [
    "df.head()"
   ]
  },
  {
   "cell_type": "markdown",
   "id": "ccc265d4-64f0-45fd-8db1-23155ed1c4e4",
   "metadata": {},
   "source": [
    "## Character mapping"
   ]
  },
  {
   "cell_type": "code",
   "execution_count": 9,
   "id": "f63e0d78-c584-41af-8b47-78175fd18b15",
   "metadata": {},
   "outputs": [],
   "source": [
    "all_chars = sorted(list(set(''.join(df['name'].values))))\n",
    "char2idx = {c: i + 1 for i, c in enumerate(all_chars)}  # 0 will be used for padding\n",
    "vocab_size = len(char2idx) + 1  # +1 for padding"
   ]
  },
  {
   "cell_type": "markdown",
   "id": "8e03e698-8a7a-423f-9b60-ca6eb7075ea0",
   "metadata": {},
   "source": [
    "## Encoding names"
   ]
  },
  {
   "cell_type": "code",
   "execution_count": 10,
   "id": "ef61922e-0944-4e7e-93a0-7b3775a94911",
   "metadata": {},
   "outputs": [],
   "source": [
    "max_len = max(df['name'].apply(len))\n",
    "min_len = min(df['name'].apply(len))"
   ]
  },
  {
   "cell_type": "code",
   "execution_count": 11,
   "id": "f2890c39-d1c2-4fe0-bacb-379ded8936b2",
   "metadata": {},
   "outputs": [],
   "source": [
    "def encode_name(name):\n",
    "    return [char2idx[c] for c in name]"
   ]
  },
  {
   "cell_type": "code",
   "execution_count": 12,
   "id": "bd29a6bd-0c44-4440-ac9a-e0dea16122ca",
   "metadata": {},
   "outputs": [],
   "source": [
    "X = df['name'].apply(encode_name).values\n",
    "X = pad_sequences(X, maxlen=max_len, padding='pre')\n",
    "\n",
    "X_oh = np.array([to_categorical(x, num_classes=vocab_size) for x in X]) #one hot endcoding the array X"
   ]
  },
  {
   "cell_type": "markdown",
   "id": "bd379960-eea9-4b33-b528-71af1dd1c02c",
   "metadata": {},
   "source": [
    "## Encoding Labels"
   ]
  },
  {
   "cell_type": "code",
   "execution_count": 13,
   "id": "c4ea7310-4a5d-4699-92a7-b035b761c179",
   "metadata": {},
   "outputs": [],
   "source": [
    "le = LabelEncoder()\n",
    "y = le.fit_transform(df['gender'])"
   ]
  },
  {
   "cell_type": "markdown",
   "id": "6a4f77b2-c39a-4650-85d0-f4b2437d5a78",
   "metadata": {},
   "source": [
    "## Building model"
   ]
  },
  {
   "cell_type": "code",
   "execution_count": 14,
   "id": "903bc282-5ca1-4dde-81e3-cda5b9d33346",
   "metadata": {},
   "outputs": [],
   "source": [
    "def build_model(rnn_type='SimpleRNN'):\n",
    "    model = Sequential()\n",
    "    model.add(Input(shape=(max_len, vocab_size)))\n",
    "    \n",
    "    if rnn_type == 'SimpleRNN':\n",
    "        model.add(SimpleRNN(64))\n",
    "    elif rnn_type == 'LSTM':\n",
    "        model.add(LSTM(64))\n",
    "    elif rnn_type == 'GRU':\n",
    "        model.add(GRU(64))\n",
    "    \n",
    "    model.add(Dropout(0.3))\n",
    "    model.add(Dense(1, activation='sigmoid'))\n",
    "    model.compile(optimizer=Adam(0.001), loss='binary_crossentropy', metrics=['accuracy'])\n",
    "    return model"
   ]
  },
  {
   "cell_type": "markdown",
   "id": "3ad02883-260a-404c-aad1-8bdfa8cb33c3",
   "metadata": {},
   "source": [
    "## Function to evaluate the model"
   ]
  },
  {
   "cell_type": "code",
   "execution_count": 15,
   "id": "dbf116a8-1747-4938-9e6f-50765191fd16",
   "metadata": {},
   "outputs": [],
   "source": [
    "def evaluate_model(model, X_test, y_test, label_encoder):\n",
    "    # Predict\n",
    "    y_pred = (model.predict(X_test) > 0.5).astype('int32').flatten()\n",
    "\n",
    "    # Overall accuracy\n",
    "    overall_acc = accuracy_score(y_test, y_pred) * 100\n",
    "\n",
    "    # Class-wise accuracy\n",
    "    male_idx = np.where(y_test == 0)[0]\n",
    "    female_idx = np.where(y_test == 1)[0]\n",
    "\n",
    "    male_acc = accuracy_score(y_test[male_idx], y_pred[male_idx]) * 100\n",
    "    female_acc = accuracy_score(y_test[female_idx], y_pred[female_idx]) * 100\n",
    "    \n",
    "    return overall_acc, male_acc, female_acc"
   ]
  },
  {
   "cell_type": "markdown",
   "id": "f343b218-4bee-4002-897e-f1e66975092e",
   "metadata": {},
   "source": [
    "## Training model"
   ]
  },
  {
   "cell_type": "code",
   "execution_count": 16,
   "id": "6a9838d8-5b77-4949-8f80-530806175ba0",
   "metadata": {
    "scrolled": true
   },
   "outputs": [
    {
     "name": "stdout",
     "output_type": "stream",
     "text": [
      "\n",
      "Training SimpleRNN model...\n",
      "\u001b[1m149/149\u001b[0m \u001b[32m━━━━━━━━━━━━━━━━━━━━\u001b[0m\u001b[37m\u001b[0m \u001b[1m0s\u001b[0m 570us/step - accuracy: 0.8271 - loss: 0.3920\n",
      "SimpleRNN Test Accuracy: 0.8262\n",
      "\n",
      "Training LSTM model...\n",
      "\u001b[1m149/149\u001b[0m \u001b[32m━━━━━━━━━━━━━━━━━━━━\u001b[0m\u001b[37m\u001b[0m \u001b[1m0s\u001b[0m 971us/step - accuracy: 0.8516 - loss: 0.3499\n",
      "LSTM Test Accuracy: 0.8523\n",
      "\n",
      "Training GRU model...\n",
      "\u001b[1m149/149\u001b[0m \u001b[32m━━━━━━━━━━━━━━━━━━━━\u001b[0m\u001b[37m\u001b[0m \u001b[1m0s\u001b[0m 852us/step - accuracy: 0.8440 - loss: 0.3486\n",
      "GRU Test Accuracy: 0.8483\n",
      "\u001b[1m149/149\u001b[0m \u001b[32m━━━━━━━━━━━━━━━━━━━━\u001b[0m\u001b[37m\u001b[0m \u001b[1m0s\u001b[0m 767us/step\n",
      "\u001b[1m149/149\u001b[0m \u001b[32m━━━━━━━━━━━━━━━━━━━━\u001b[0m\u001b[37m\u001b[0m \u001b[1m0s\u001b[0m 1ms/step\n",
      "\u001b[1m149/149\u001b[0m \u001b[32m━━━━━━━━━━━━━━━━━━━━\u001b[0m\u001b[37m\u001b[0m \u001b[1m0s\u001b[0m 1ms/step\n",
      "\n",
      "Training SimpleRNN model...\n",
      "\u001b[1m297/297\u001b[0m \u001b[32m━━━━━━━━━━━━━━━━━━━━\u001b[0m\u001b[37m\u001b[0m \u001b[1m0s\u001b[0m 545us/step - accuracy: 0.8363 - loss: 0.3692\n",
      "SimpleRNN Test Accuracy: 0.8382\n",
      "\n",
      "Training LSTM model...\n",
      "\u001b[1m297/297\u001b[0m \u001b[32m━━━━━━━━━━━━━━━━━━━━\u001b[0m\u001b[37m\u001b[0m \u001b[1m0s\u001b[0m 911us/step - accuracy: 0.8668 - loss: 0.3106\n",
      "LSTM Test Accuracy: 0.8670\n",
      "\n",
      "Training GRU model...\n",
      "\u001b[1m297/297\u001b[0m \u001b[32m━━━━━━━━━━━━━━━━━━━━\u001b[0m\u001b[37m\u001b[0m \u001b[1m0s\u001b[0m 842us/step - accuracy: 0.8690 - loss: 0.3046\n",
      "GRU Test Accuracy: 0.8700\n",
      "\u001b[1m297/297\u001b[0m \u001b[32m━━━━━━━━━━━━━━━━━━━━\u001b[0m\u001b[37m\u001b[0m \u001b[1m0s\u001b[0m 479us/step\n",
      "\u001b[1m297/297\u001b[0m \u001b[32m━━━━━━━━━━━━━━━━━━━━\u001b[0m\u001b[37m\u001b[0m \u001b[1m0s\u001b[0m 879us/step\n",
      "\u001b[1m297/297\u001b[0m \u001b[32m━━━━━━━━━━━━━━━━━━━━\u001b[0m\u001b[37m\u001b[0m \u001b[1m0s\u001b[0m 865us/step\n",
      "\u001b[1m297/297\u001b[0m \u001b[32m━━━━━━━━━━━━━━━━━━━━\u001b[0m\u001b[37m\u001b[0m \u001b[1m0s\u001b[0m 621us/step\n",
      "\u001b[1m297/297\u001b[0m \u001b[32m━━━━━━━━━━━━━━━━━━━━\u001b[0m\u001b[37m\u001b[0m \u001b[1m0s\u001b[0m 1ms/step\n",
      "\u001b[1m297/297\u001b[0m \u001b[32m━━━━━━━━━━━━━━━━━━━━\u001b[0m\u001b[37m\u001b[0m \u001b[1m0s\u001b[0m 1ms/step  \n",
      "\n",
      "Training SimpleRNN model...\n",
      "\u001b[1m446/446\u001b[0m \u001b[32m━━━━━━━━━━━━━━━━━━━━\u001b[0m\u001b[37m\u001b[0m \u001b[1m0s\u001b[0m 546us/step - accuracy: 0.8437 - loss: 0.3625\n",
      "SimpleRNN Test Accuracy: 0.8454\n",
      "\n",
      "Training LSTM model...\n",
      "\u001b[1m446/446\u001b[0m \u001b[32m━━━━━━━━━━━━━━━━━━━━\u001b[0m\u001b[37m\u001b[0m \u001b[1m0s\u001b[0m 1ms/step - accuracy: 0.8712 - loss: 0.3004\n",
      "LSTM Test Accuracy: 0.8768\n",
      "\n",
      "Training GRU model...\n",
      "\u001b[1m446/446\u001b[0m \u001b[32m━━━━━━━━━━━━━━━━━━━━\u001b[0m\u001b[37m\u001b[0m \u001b[1m0s\u001b[0m 836us/step - accuracy: 0.8778 - loss: 0.2922\n",
      "GRU Test Accuracy: 0.8809\n",
      "\u001b[1m446/446\u001b[0m \u001b[32m━━━━━━━━━━━━━━━━━━━━\u001b[0m\u001b[37m\u001b[0m \u001b[1m0s\u001b[0m 474us/step\n",
      "\u001b[1m446/446\u001b[0m \u001b[32m━━━━━━━━━━━━━━━━━━━━\u001b[0m\u001b[37m\u001b[0m \u001b[1m0s\u001b[0m 869us/step\n",
      "\u001b[1m446/446\u001b[0m \u001b[32m━━━━━━━━━━━━━━━━━━━━\u001b[0m\u001b[37m\u001b[0m \u001b[1m0s\u001b[0m 846us/step\n",
      "\u001b[1m446/446\u001b[0m \u001b[32m━━━━━━━━━━━━━━━━━━━━\u001b[0m\u001b[37m\u001b[0m \u001b[1m0s\u001b[0m 474us/step\n",
      "\u001b[1m446/446\u001b[0m \u001b[32m━━━━━━━━━━━━━━━━━━━━\u001b[0m\u001b[37m\u001b[0m \u001b[1m0s\u001b[0m 874us/step\n",
      "\u001b[1m446/446\u001b[0m \u001b[32m━━━━━━━━━━━━━━━━━━━━\u001b[0m\u001b[37m\u001b[0m \u001b[1m0s\u001b[0m 821us/step\n",
      "\u001b[1m446/446\u001b[0m \u001b[32m━━━━━━━━━━━━━━━━━━━━\u001b[0m\u001b[37m\u001b[0m \u001b[1m0s\u001b[0m 558us/step\n",
      "\u001b[1m446/446\u001b[0m \u001b[32m━━━━━━━━━━━━━━━━━━━━\u001b[0m\u001b[37m\u001b[0m \u001b[1m0s\u001b[0m 972us/step\n",
      "\u001b[1m446/446\u001b[0m \u001b[32m━━━━━━━━━━━━━━━━━━━━\u001b[0m\u001b[37m\u001b[0m \u001b[1m0s\u001b[0m 940us/step\n",
      "\n",
      "Training SimpleRNN model...\n",
      "\u001b[1m594/594\u001b[0m \u001b[32m━━━━━━━━━━━━━━━━━━━━\u001b[0m\u001b[37m\u001b[0m \u001b[1m0s\u001b[0m 529us/step - accuracy: 0.8532 - loss: 0.3405\n",
      "SimpleRNN Test Accuracy: 0.8527\n",
      "\n",
      "Training LSTM model...\n",
      "\u001b[1m594/594\u001b[0m \u001b[32m━━━━━━━━━━━━━━━━━━━━\u001b[0m\u001b[37m\u001b[0m \u001b[1m1s\u001b[0m 1ms/step - accuracy: 0.8814 - loss: 0.2815\n",
      "LSTM Test Accuracy: 0.8838\n",
      "\n",
      "Training GRU model...\n",
      "\u001b[1m594/594\u001b[0m \u001b[32m━━━━━━━━━━━━━━━━━━━━\u001b[0m\u001b[37m\u001b[0m \u001b[1m1s\u001b[0m 834us/step - accuracy: 0.8779 - loss: 0.2825\n",
      "GRU Test Accuracy: 0.8803\n",
      "\u001b[1m594/594\u001b[0m \u001b[32m━━━━━━━━━━━━━━━━━━━━\u001b[0m\u001b[37m\u001b[0m \u001b[1m0s\u001b[0m 471us/step\n",
      "\u001b[1m594/594\u001b[0m \u001b[32m━━━━━━━━━━━━━━━━━━━━\u001b[0m\u001b[37m\u001b[0m \u001b[1m1s\u001b[0m 882us/step\n",
      "\u001b[1m594/594\u001b[0m \u001b[32m━━━━━━━━━━━━━━━━━━━━\u001b[0m\u001b[37m\u001b[0m \u001b[1m1s\u001b[0m 836us/step\n",
      "\u001b[1m594/594\u001b[0m \u001b[32m━━━━━━━━━━━━━━━━━━━━\u001b[0m\u001b[37m\u001b[0m \u001b[1m0s\u001b[0m 464us/step\n",
      "\u001b[1m594/594\u001b[0m \u001b[32m━━━━━━━━━━━━━━━━━━━━\u001b[0m\u001b[37m\u001b[0m \u001b[1m1s\u001b[0m 877us/step\n",
      "\u001b[1m594/594\u001b[0m \u001b[32m━━━━━━━━━━━━━━━━━━━━\u001b[0m\u001b[37m\u001b[0m \u001b[1m1s\u001b[0m 901us/step\n",
      "\u001b[1m594/594\u001b[0m \u001b[32m━━━━━━━━━━━━━━━━━━━━\u001b[0m\u001b[37m\u001b[0m \u001b[1m0s\u001b[0m 471us/step\n",
      "\u001b[1m594/594\u001b[0m \u001b[32m━━━━━━━━━━━━━━━━━━━━\u001b[0m\u001b[37m\u001b[0m \u001b[1m1s\u001b[0m 891us/step\n",
      "\u001b[1m594/594\u001b[0m \u001b[32m━━━━━━━━━━━━━━━━━━━━\u001b[0m\u001b[37m\u001b[0m \u001b[1m1s\u001b[0m 846us/step\n",
      "\u001b[1m594/594\u001b[0m \u001b[32m━━━━━━━━━━━━━━━━━━━━\u001b[0m\u001b[37m\u001b[0m \u001b[1m0s\u001b[0m 538us/step\n",
      "\u001b[1m594/594\u001b[0m \u001b[32m━━━━━━━━━━━━━━━━━━━━\u001b[0m\u001b[37m\u001b[0m \u001b[1m1s\u001b[0m 1ms/step\n",
      "\u001b[1m594/594\u001b[0m \u001b[32m━━━━━━━━━━━━━━━━━━━━\u001b[0m\u001b[37m\u001b[0m \u001b[1m1s\u001b[0m 920us/step\n"
     ]
    }
   ],
   "source": [
    "data_used = [0.25, 0.5, 0.75, 1]\n",
    "models = {}\n",
    "results = {}\n",
    "for percent in data_used:\n",
    "    sample_size = int(percent * len(X_oh))\n",
    "    selected_indices = np.random.choice(len(X_oh), size=sample_size, replace=False)\n",
    "    X_ = X_oh[selected_indices]\n",
    "    y_ = y[selected_indices]\n",
    "\n",
    "    X_train, X_test, y_train, y_test = train_test_split(X_, y_, test_size=0.2, random_state=42)\n",
    "\n",
    "    for rnn_type in ['SimpleRNN', 'LSTM', 'GRU']:\n",
    "        print(f'\\nTraining {rnn_type} model...')\n",
    "        model = build_model(rnn_type)\n",
    "        model.fit(X_train, y_train, epochs=10, batch_size=32, validation_split=0.2, verbose=0)\n",
    "        loss, acc = model.evaluate(X_test, y_test)\n",
    "        print(f'{rnn_type} Test Accuracy: {acc:.4f}')\n",
    "        model_name = rnn_type + \"_\" + str(percent)\n",
    "        models[model_name] = [rnn_type, percent, model]\n",
    "    \n",
    "\n",
    "    for item in models:\n",
    "        overall, male, female = evaluate_model(models[item][2], X_test, y_test, le)\n",
    "        results[item] = {\n",
    "            \"Model Name\": models[item][0],\n",
    "            \"Data Used\": models[item][1],\n",
    "            \"Overall Accuracy\": overall,\n",
    "            \"Male Accuracy\": male,\n",
    "            \"Female Accuracy\": female\n",
    "        }"
   ]
  },
  {
   "cell_type": "code",
   "execution_count": 17,
   "id": "b24b5397-51d8-4d75-8d28-da81488a39d9",
   "metadata": {},
   "outputs": [
    {
     "data": {
      "text/html": [
       "<div>\n",
       "<style scoped>\n",
       "    .dataframe tbody tr th:only-of-type {\n",
       "        vertical-align: middle;\n",
       "    }\n",
       "\n",
       "    .dataframe tbody tr th {\n",
       "        vertical-align: top;\n",
       "    }\n",
       "\n",
       "    .dataframe thead th {\n",
       "        text-align: right;\n",
       "    }\n",
       "</style>\n",
       "<table border=\"1\" class=\"dataframe\">\n",
       "  <thead>\n",
       "    <tr style=\"text-align: right;\">\n",
       "      <th></th>\n",
       "      <th>Model Name</th>\n",
       "      <th>Data Used</th>\n",
       "      <th>Overall Accuracy</th>\n",
       "      <th>Male Accuracy</th>\n",
       "      <th>Female Accuracy</th>\n",
       "    </tr>\n",
       "  </thead>\n",
       "  <tbody>\n",
       "    <tr>\n",
       "      <th>GRU_0.75</th>\n",
       "      <td>GRU</td>\n",
       "      <td>0.75</td>\n",
       "      <td>88.518811</td>\n",
       "      <td>91.376589</td>\n",
       "      <td>83.58209</td>\n",
       "    </tr>\n",
       "    <tr>\n",
       "      <th>LSTM_1</th>\n",
       "      <td>LSTM</td>\n",
       "      <td>1</td>\n",
       "      <td>88.382005</td>\n",
       "      <td>89.40766</td>\n",
       "      <td>86.610218</td>\n",
       "    </tr>\n",
       "    <tr>\n",
       "      <th>LSTM_0.75</th>\n",
       "      <td>LSTM</td>\n",
       "      <td>0.75</td>\n",
       "      <td>88.061037</td>\n",
       "      <td>92.091053</td>\n",
       "      <td>81.099311</td>\n",
       "    </tr>\n",
       "    <tr>\n",
       "      <th>GRU_1</th>\n",
       "      <td>GRU</td>\n",
       "      <td>1</td>\n",
       "      <td>88.029466</td>\n",
       "      <td>91.974745</td>\n",
       "      <td>81.214122</td>\n",
       "    </tr>\n",
       "    <tr>\n",
       "      <th>GRU_0.5</th>\n",
       "      <td>GRU</td>\n",
       "      <td>0.5</td>\n",
       "      <td>87.303341</td>\n",
       "      <td>90.986126</td>\n",
       "      <td>80.941447</td>\n",
       "    </tr>\n",
       "    <tr>\n",
       "      <th>LSTM_0.5</th>\n",
       "      <td>LSTM</td>\n",
       "      <td>0.5</td>\n",
       "      <td>86.792949</td>\n",
       "      <td>91.99136</td>\n",
       "      <td>77.812859</td>\n",
       "    </tr>\n",
       "    <tr>\n",
       "      <th>GRU_0.25</th>\n",
       "      <td>GRU</td>\n",
       "      <td>0.25</td>\n",
       "      <td>85.303867</td>\n",
       "      <td>89.191659</td>\n",
       "      <td>78.58783</td>\n",
       "    </tr>\n",
       "    <tr>\n",
       "      <th>LSTM_0.25</th>\n",
       "      <td>LSTM</td>\n",
       "      <td>0.25</td>\n",
       "      <td>85.272297</td>\n",
       "      <td>88.38581</td>\n",
       "      <td>79.8938</td>\n",
       "    </tr>\n",
       "    <tr>\n",
       "      <th>SimpleRNN_1</th>\n",
       "      <td>SimpleRNN</td>\n",
       "      <td>1</td>\n",
       "      <td>85.267035</td>\n",
       "      <td>88.27781</td>\n",
       "      <td>80.066016</td>\n",
       "    </tr>\n",
       "    <tr>\n",
       "      <th>SimpleRNN_0.75</th>\n",
       "      <td>SimpleRNN</td>\n",
       "      <td>0.75</td>\n",
       "      <td>84.504078</td>\n",
       "      <td>86.740882</td>\n",
       "      <td>80.640069</td>\n",
       "    </tr>\n",
       "    <tr>\n",
       "      <th>SimpleRNN_0.5</th>\n",
       "      <td>SimpleRNN</td>\n",
       "      <td>0.5</td>\n",
       "      <td>83.546435</td>\n",
       "      <td>86.142727</td>\n",
       "      <td>79.061424</td>\n",
       "    </tr>\n",
       "    <tr>\n",
       "      <th>SimpleRNN_0.25</th>\n",
       "      <td>SimpleRNN</td>\n",
       "      <td>0.25</td>\n",
       "      <td>83.325441</td>\n",
       "      <td>87.455346</td>\n",
       "      <td>76.19116</td>\n",
       "    </tr>\n",
       "  </tbody>\n",
       "</table>\n",
       "</div>"
      ],
      "text/plain": [
       "               Model Name Data Used Overall Accuracy Male Accuracy  \\\n",
       "GRU_0.75              GRU      0.75        88.518811     91.376589   \n",
       "LSTM_1               LSTM         1        88.382005      89.40766   \n",
       "LSTM_0.75            LSTM      0.75        88.061037     92.091053   \n",
       "GRU_1                 GRU         1        88.029466     91.974745   \n",
       "GRU_0.5               GRU       0.5        87.303341     90.986126   \n",
       "LSTM_0.5             LSTM       0.5        86.792949      91.99136   \n",
       "GRU_0.25              GRU      0.25        85.303867     89.191659   \n",
       "LSTM_0.25            LSTM      0.25        85.272297      88.38581   \n",
       "SimpleRNN_1     SimpleRNN         1        85.267035      88.27781   \n",
       "SimpleRNN_0.75  SimpleRNN      0.75        84.504078     86.740882   \n",
       "SimpleRNN_0.5   SimpleRNN       0.5        83.546435     86.142727   \n",
       "SimpleRNN_0.25  SimpleRNN      0.25        83.325441     87.455346   \n",
       "\n",
       "               Female Accuracy  \n",
       "GRU_0.75              83.58209  \n",
       "LSTM_1               86.610218  \n",
       "LSTM_0.75            81.099311  \n",
       "GRU_1                81.214122  \n",
       "GRU_0.5              80.941447  \n",
       "LSTM_0.5             77.812859  \n",
       "GRU_0.25              78.58783  \n",
       "LSTM_0.25              79.8938  \n",
       "SimpleRNN_1          80.066016  \n",
       "SimpleRNN_0.75       80.640069  \n",
       "SimpleRNN_0.5        79.061424  \n",
       "SimpleRNN_0.25        76.19116  "
      ]
     },
     "execution_count": 17,
     "metadata": {},
     "output_type": "execute_result"
    }
   ],
   "source": [
    "result_df = pd.DataFrame(results).T\n",
    "result_df.sort_values(by='Overall Accuracy', ascending = False)"
   ]
  },
  {
   "cell_type": "markdown",
   "id": "17881276-dfe9-482c-be4c-068942ea6008",
   "metadata": {},
   "source": [
    "## Problem Statement #2: Train a Language model using these names"
   ]
  },
  {
   "cell_type": "code",
   "execution_count": 18,
   "id": "d24fe4e7-2098-4891-889e-cb75bd9e25d0",
   "metadata": {},
   "outputs": [],
   "source": [
    "male_names = list(df[df['gender'] == 'M']['name'])\n",
    "female_names = list(df[df['gender'] == 'F']['name'])"
   ]
  },
  {
   "cell_type": "code",
   "execution_count": 19,
   "id": "47f72c9c-ccb8-429a-b75d-d3a94d2ce79a",
   "metadata": {},
   "outputs": [
    {
     "data": {
      "text/plain": [
       "['aaban', 'aabha', 'aabid', 'aabriella', 'aada']"
      ]
     },
     "execution_count": 19,
     "metadata": {},
     "output_type": "execute_result"
    }
   ],
   "source": [
    "names = list(df['name'])\n",
    "names[:5]"
   ]
  },
  {
   "cell_type": "code",
   "execution_count": 20,
   "id": "59bccb12-08ba-4f80-b12b-5eb3d9d83714",
   "metadata": {},
   "outputs": [],
   "source": [
    "char2idx = {char: idx+1 for idx, char in enumerate(all_chars)} # since padding takes 0\n",
    "idx2char = {idx: char for char, idx in char2idx.items()}"
   ]
  },
  {
   "cell_type": "code",
   "execution_count": 21,
   "id": "7c283eae-96df-4226-b6a2-ff36d91a705e",
   "metadata": {},
   "outputs": [
    {
     "data": {
      "text/plain": [
       "27"
      ]
     },
     "execution_count": 21,
     "metadata": {},
     "output_type": "execute_result"
    }
   ],
   "source": [
    "vocab_size"
   ]
  },
  {
   "cell_type": "code",
   "execution_count": 22,
   "id": "401ed190-c741-4529-8d3f-f847f87fb01a",
   "metadata": {},
   "outputs": [],
   "source": [
    "def create_sequences(names):\n",
    "    input_seqs, target_seqs = [], []\n",
    "    for name in names:\n",
    "        seq = encode_name(name)\n",
    "        for i in range(1, len(seq)):\n",
    "            input_seqs.append(seq[:i])\n",
    "            target_seqs.append(seq[i])\n",
    "    return input_seqs, target_seqs"
   ]
  },
  {
   "cell_type": "markdown",
   "id": "a29e94c8-f43a-4bbb-9a3c-0a948c4248e6",
   "metadata": {},
   "source": [
    "### Creating a model for male names"
   ]
  },
  {
   "cell_type": "code",
   "execution_count": 23,
   "id": "b53ac34d-d13f-4318-bdc0-f8a0af2e8d9d",
   "metadata": {},
   "outputs": [
    {
     "name": "stdout",
     "output_type": "stream",
     "text": [
      "Epoch 1/5\n"
     ]
    },
    {
     "name": "stderr",
     "output_type": "stream",
     "text": [
      "/opt/miniconda3/lib/python3.12/site-packages/keras/src/layers/core/embedding.py:90: UserWarning: Argument `input_length` is deprecated. Just remove it.\n",
      "  warnings.warn(\n"
     ]
    },
    {
     "name": "stdout",
     "output_type": "stream",
     "text": [
      "\u001b[1m2870/2870\u001b[0m \u001b[32m━━━━━━━━━━━━━━━━━━━━\u001b[0m\u001b[37m\u001b[0m \u001b[1m44s\u001b[0m 15ms/step - accuracy: 0.2584 - loss: 2.4335\n",
      "Epoch 2/5\n",
      "\u001b[1m2870/2870\u001b[0m \u001b[32m━━━━━━━━━━━━━━━━━━━━\u001b[0m\u001b[37m\u001b[0m \u001b[1m36s\u001b[0m 13ms/step - accuracy: 0.3230 - loss: 2.1655\n",
      "Epoch 3/5\n",
      "\u001b[1m2870/2870\u001b[0m \u001b[32m━━━━━━━━━━━━━━━━━━━━\u001b[0m\u001b[37m\u001b[0m \u001b[1m44s\u001b[0m 15ms/step - accuracy: 0.3451 - loss: 2.0916\n",
      "Epoch 4/5\n",
      "\u001b[1m2870/2870\u001b[0m \u001b[32m━━━━━━━━━━━━━━━━━━━━\u001b[0m\u001b[37m\u001b[0m \u001b[1m35s\u001b[0m 12ms/step - accuracy: 0.3588 - loss: 2.0373\n",
      "Epoch 5/5\n",
      "\u001b[1m2870/2870\u001b[0m \u001b[32m━━━━━━━━━━━━━━━━━━━━\u001b[0m\u001b[37m\u001b[0m \u001b[1m44s\u001b[0m 15ms/step - accuracy: 0.3635 - loss: 2.0160\n"
     ]
    },
    {
     "data": {
      "text/plain": [
       "<keras.src.callbacks.history.History at 0x15d9b0cb0>"
      ]
     },
     "execution_count": 23,
     "metadata": {},
     "output_type": "execute_result"
    }
   ],
   "source": [
    "input_seqs, target_seqs = create_sequences(male_names)\n",
    "\n",
    "max_seq_len = max(len(seq) for seq in input_seqs)\n",
    "X = pad_sequences(input_seqs, maxlen=max_seq_len, padding='pre')\n",
    "y = np.array(target_seqs)\n",
    "\n",
    "model_male = Sequential([\n",
    "    Embedding(vocab_size, 128, input_length=max_len),\n",
    "    GRU(128, return_sequences=False),\n",
    "    Dropout(0.2),\n",
    "    Dense(vocab_size, activation='softmax')\n",
    "])\n",
    "\n",
    "model_male.compile(loss=SparseCategoricalCrossentropy(from_logits=False), optimizer='adam', metrics=['accuracy'])\n",
    "\n",
    "model_male.fit(X, y, epochs=5, batch_size=64)"
   ]
  },
  {
   "cell_type": "markdown",
   "id": "0ea27fc6-b9b6-45c4-9dfa-0d5ee36d8a71",
   "metadata": {},
   "source": [
    "### Creating a model for Female names"
   ]
  },
  {
   "cell_type": "code",
   "execution_count": 24,
   "id": "f7b76a5a-b8c9-43af-822c-78fb1a642d7e",
   "metadata": {},
   "outputs": [
    {
     "name": "stdout",
     "output_type": "stream",
     "text": [
      "Epoch 1/5\n",
      "\u001b[1m5348/5348\u001b[0m \u001b[32m━━━━━━━━━━━━━━━━━━━━\u001b[0m\u001b[37m\u001b[0m \u001b[1m70s\u001b[0m 13ms/step - accuracy: 0.3097 - loss: 2.1805\n",
      "Epoch 2/5\n",
      "\u001b[1m5348/5348\u001b[0m \u001b[32m━━━━━━━━━━━━━━━━━━━━\u001b[0m\u001b[37m\u001b[0m \u001b[1m63s\u001b[0m 12ms/step - accuracy: 0.3665 - loss: 1.9439\n",
      "Epoch 3/5\n",
      "\u001b[1m5348/5348\u001b[0m \u001b[32m━━━━━━━━━━━━━━━━━━━━\u001b[0m\u001b[37m\u001b[0m \u001b[1m63s\u001b[0m 12ms/step - accuracy: 0.3816 - loss: 1.8958\n",
      "Epoch 4/5\n",
      "\u001b[1m5348/5348\u001b[0m \u001b[32m━━━━━━━━━━━━━━━━━━━━\u001b[0m\u001b[37m\u001b[0m \u001b[1m61s\u001b[0m 11ms/step - accuracy: 0.3935 - loss: 1.8624\n",
      "Epoch 5/5\n",
      "\u001b[1m5348/5348\u001b[0m \u001b[32m━━━━━━━━━━━━━━━━━━━━\u001b[0m\u001b[37m\u001b[0m \u001b[1m61s\u001b[0m 11ms/step - accuracy: 0.3973 - loss: 1.8472\n"
     ]
    },
    {
     "data": {
      "text/plain": [
       "<keras.src.callbacks.history.History at 0x167dfdbe0>"
      ]
     },
     "execution_count": 24,
     "metadata": {},
     "output_type": "execute_result"
    }
   ],
   "source": [
    "input_seqs, target_seqs = create_sequences(female_names)\n",
    "\n",
    "max_seq_len = max(len(seq) for seq in input_seqs)\n",
    "X = pad_sequences(input_seqs, maxlen=max_seq_len, padding='pre')\n",
    "y = np.array(target_seqs)\n",
    "\n",
    "model_female = Sequential([\n",
    "    Embedding(vocab_size, 128, input_length=max_len),\n",
    "    GRU(128, return_sequences=False),\n",
    "    Dropout(0.2),\n",
    "    Dense(vocab_size, activation='softmax')\n",
    "])\n",
    "\n",
    "model_female.compile(loss=SparseCategoricalCrossentropy(from_logits=False), optimizer='adam', metrics=['accuracy'])\n",
    "\n",
    "model_female.fit(X, y, epochs=5, batch_size=64)"
   ]
  },
  {
   "cell_type": "markdown",
   "id": "5405df03-1b4a-406b-a79a-fbb2aeb11f7f",
   "metadata": {},
   "source": [
    "### Generating names"
   ]
  },
  {
   "cell_type": "code",
   "execution_count": 25,
   "id": "2e0cd6cd-a66d-454f-bd55-92fcfac5fd9a",
   "metadata": {},
   "outputs": [],
   "source": [
    "def generate_name(seed_char, gender):\n",
    "    name = seed_char\n",
    "    total_length = random.randint(min_len, max_len)\n",
    "    \n",
    "    for _ in range(total_length):\n",
    "        input_seq = encode_name(name)\n",
    "        padded = pad_sequences([input_seq], maxlen=max_seq_len, padding='pre')\n",
    "        \n",
    "        if gender == 'male':\n",
    "            pred = model_male.predict(padded, verbose=0)\n",
    "        else:\n",
    "            pred = model_female.predict(padded, verbose=0)\n",
    "        \n",
    "        # Keep sampling until valid (non-zero) index is chosen, to avoid generating 0 which is reserved for padding\n",
    "        while True:\n",
    "            next_idx = tf.random.categorical(tf.math.log(pred), num_samples=1).numpy()[0][0]\n",
    "            if next_idx > 0:\n",
    "                break\n",
    "                \n",
    "        next_char = idx2char[next_idx]\n",
    "        name += next_char\n",
    "\n",
    "    return name"
   ]
  },
  {
   "cell_type": "code",
   "execution_count": 26,
   "id": "2c294fbb-6364-4924-85bc-2a58144043a8",
   "metadata": {},
   "outputs": [
    {
     "data": {
      "text/plain": [
       "'lillythianna'"
      ]
     },
     "execution_count": 26,
     "metadata": {},
     "output_type": "execute_result"
    }
   ],
   "source": [
    "generate_name('l', 'female') #seeing a sample output"
   ]
  },
  {
   "cell_type": "code",
   "execution_count": 27,
   "id": "ca891d68-f124-4eaa-ada2-d3f90517e603",
   "metadata": {},
   "outputs": [],
   "source": [
    "male_names_100 = [generate_name(random.choice(all_chars), 'male') for _ in range(100)]\n",
    "female_names_100 = [generate_name(random.choice(all_chars), 'female') for _ in range(100)]\n",
    "\n",
    "names = male_names_100 + female_names_100"
   ]
  },
  {
   "cell_type": "code",
   "execution_count": 28,
   "id": "f375aa97-a594-4b84-bdd0-750e6c42e02b",
   "metadata": {},
   "outputs": [],
   "source": [
    "gender_male = [\"M\" for _ in range(100)]\n",
    "gender_female = [\"F\" for _ in range(100)]\n",
    "\n",
    "gender = gender_male + gender_female"
   ]
  },
  {
   "cell_type": "code",
   "execution_count": 29,
   "id": "0e6c5f89-723b-45de-a482-f8a4048b07f7",
   "metadata": {},
   "outputs": [
    {
     "data": {
      "text/plain": [
       "200"
      ]
     },
     "execution_count": 29,
     "metadata": {},
     "output_type": "execute_result"
    }
   ],
   "source": [
    "len(gender)"
   ]
  },
  {
   "cell_type": "markdown",
   "id": "771dc6ae-b44d-4fe6-bef1-1f1a101e2f3b",
   "metadata": {},
   "source": [
    "### Measuring the accuracy using the best model from problem #1"
   ]
  },
  {
   "cell_type": "code",
   "execution_count": 30,
   "id": "a5ed613c-5695-4ac2-b84d-c6c095d68c35",
   "metadata": {},
   "outputs": [],
   "source": [
    "X = df['name'].apply(encode_name).values\n",
    "X = pad_sequences(X, maxlen=max_len, padding='pre')\n",
    "\n",
    "X_oh = np.array([to_categorical(x, num_classes=vocab_size) for x in X]) #one hot endcoding the array X\n",
    "\n",
    "le = LabelEncoder()\n",
    "y = le.fit_transform(df['gender'])"
   ]
  },
  {
   "cell_type": "code",
   "execution_count": 32,
   "id": "1eea073f-c0ab-45a2-9ccd-31b578bb56b1",
   "metadata": {},
   "outputs": [
    {
     "name": "stdout",
     "output_type": "stream",
     "text": [
      "Epoch 1/10\n",
      "\u001b[1m1901/1901\u001b[0m \u001b[32m━━━━━━━━━━━━━━━━━━━━\u001b[0m\u001b[37m\u001b[0m \u001b[1m7s\u001b[0m 3ms/step - accuracy: 0.7798 - loss: 0.4498 - val_accuracy: 0.8435 - val_loss: 0.3566\n",
      "Epoch 2/10\n",
      "\u001b[1m1901/1901\u001b[0m \u001b[32m━━━━━━━━━━━━━━━━━━━━\u001b[0m\u001b[37m\u001b[0m \u001b[1m6s\u001b[0m 3ms/step - accuracy: 0.8428 - loss: 0.3629 - val_accuracy: 0.8556 - val_loss: 0.3362\n",
      "Epoch 3/10\n",
      "\u001b[1m1901/1901\u001b[0m \u001b[32m━━━━━━━━━━━━━━━━━━━━\u001b[0m\u001b[37m\u001b[0m \u001b[1m6s\u001b[0m 3ms/step - accuracy: 0.8519 - loss: 0.3405 - val_accuracy: 0.8638 - val_loss: 0.3225\n",
      "Epoch 4/10\n",
      "\u001b[1m1901/1901\u001b[0m \u001b[32m━━━━━━━━━━━━━━━━━━━━\u001b[0m\u001b[37m\u001b[0m \u001b[1m6s\u001b[0m 3ms/step - accuracy: 0.8600 - loss: 0.3249 - val_accuracy: 0.8656 - val_loss: 0.3146\n",
      "Epoch 5/10\n",
      "\u001b[1m1901/1901\u001b[0m \u001b[32m━━━━━━━━━━━━━━━━━━━━\u001b[0m\u001b[37m\u001b[0m \u001b[1m6s\u001b[0m 3ms/step - accuracy: 0.8681 - loss: 0.3103 - val_accuracy: 0.8687 - val_loss: 0.3058\n",
      "Epoch 6/10\n",
      "\u001b[1m1901/1901\u001b[0m \u001b[32m━━━━━━━━━━━━━━━━━━━━\u001b[0m\u001b[37m\u001b[0m \u001b[1m6s\u001b[0m 3ms/step - accuracy: 0.8748 - loss: 0.2979 - val_accuracy: 0.8775 - val_loss: 0.2922\n",
      "Epoch 7/10\n",
      "\u001b[1m1901/1901\u001b[0m \u001b[32m━━━━━━━━━━━━━━━━━━━━\u001b[0m\u001b[37m\u001b[0m \u001b[1m6s\u001b[0m 3ms/step - accuracy: 0.8800 - loss: 0.2862 - val_accuracy: 0.8813 - val_loss: 0.2861\n",
      "Epoch 8/10\n",
      "\u001b[1m1901/1901\u001b[0m \u001b[32m━━━━━━━━━━━━━━━━━━━━\u001b[0m\u001b[37m\u001b[0m \u001b[1m6s\u001b[0m 3ms/step - accuracy: 0.8834 - loss: 0.2749 - val_accuracy: 0.8835 - val_loss: 0.2809\n",
      "Epoch 9/10\n",
      "\u001b[1m1901/1901\u001b[0m \u001b[32m━━━━━━━━━━━━━━━━━━━━\u001b[0m\u001b[37m\u001b[0m \u001b[1m6s\u001b[0m 3ms/step - accuracy: 0.8872 - loss: 0.2720 - val_accuracy: 0.8876 - val_loss: 0.2747\n",
      "Epoch 10/10\n",
      "\u001b[1m1901/1901\u001b[0m \u001b[32m━━━━━━━━━━━━━━━━━━━━\u001b[0m\u001b[37m\u001b[0m \u001b[1m6s\u001b[0m 3ms/step - accuracy: 0.8915 - loss: 0.2615 - val_accuracy: 0.8858 - val_loss: 0.2745\n"
     ]
    },
    {
     "data": {
      "text/plain": [
       "<keras.src.callbacks.history.History at 0x15c760140>"
      ]
     },
     "execution_count": 32,
     "metadata": {},
     "output_type": "execute_result"
    }
   ],
   "source": [
    "# the GRU model performed best, hence using it\n",
    "X_train, X_test, y_train, y_test = train_test_split(X_oh, y, test_size=0.2, random_state=42)\n",
    "model_3 = build_model('GRU')\n",
    "model_3.fit(X_train, y_train, epochs=10, batch_size=32, validation_split=0.2, verbose=1)"
   ]
  },
  {
   "cell_type": "code",
   "execution_count": 33,
   "id": "afefd527-c79a-44e5-b9c4-2f69500f1800",
   "metadata": {},
   "outputs": [],
   "source": [
    "names = [encode_name(name) for name in names]\n",
    "names = pad_sequences(names, maxlen=max_len, padding='pre')\n",
    "names = np.array([to_categorical(name, num_classes=vocab_size) for name in names])\n",
    "\n",
    "gender = le.fit_transform(gender)"
   ]
  },
  {
   "cell_type": "code",
   "execution_count": 34,
   "id": "d10eabb1-4e0e-4827-9873-48b5e3449814",
   "metadata": {},
   "outputs": [
    {
     "name": "stdout",
     "output_type": "stream",
     "text": [
      "\u001b[1m7/7\u001b[0m \u001b[32m━━━━━━━━━━━━━━━━━━━━\u001b[0m\u001b[37m\u001b[0m \u001b[1m0s\u001b[0m 16ms/step\n"
     ]
    }
   ],
   "source": [
    "overall, male, female = evaluate_model(model_3, names, gender, le)"
   ]
  },
  {
   "cell_type": "code",
   "execution_count": 35,
   "id": "cccf7762-9591-40a3-bf52-04134e22a156",
   "metadata": {},
   "outputs": [
    {
     "name": "stdout",
     "output_type": "stream",
     "text": [
      "Overall Accuracy: 67.5\n",
      "Male Accuracy: 70.0\n",
      "Female Accuracy: 65.0\n"
     ]
    }
   ],
   "source": [
    "print(f\"Overall Accuracy: {overall}\")\n",
    "print(f\"Male Accuracy: {male}\")\n",
    "print(f\"Female Accuracy: {female}\")"
   ]
  },
  {
   "cell_type": "markdown",
   "id": "04c65a07-717f-4a48-b866-2321a82ea8d1",
   "metadata": {},
   "source": [
    "## Train a language model using names starting with A, M, and Z"
   ]
  },
  {
   "cell_type": "code",
   "execution_count": 36,
   "id": "e67c841a-10f0-4d6e-9668-d62f926b7a63",
   "metadata": {},
   "outputs": [],
   "source": [
    "filtered_names = df[df['name'].str.startswith(('a', 'm', 'z'))].copy()"
   ]
  },
  {
   "cell_type": "code",
   "execution_count": 37,
   "id": "53c9c98e-8235-4977-adfc-78363a7d81bc",
   "metadata": {},
   "outputs": [],
   "source": [
    "filtered_names = list(filtered_names['name'])"
   ]
  },
  {
   "cell_type": "code",
   "execution_count": 38,
   "id": "e5cb8d52-d3c5-4e93-b934-d9a457d3e43b",
   "metadata": {},
   "outputs": [
    {
     "name": "stdout",
     "output_type": "stream",
     "text": [
      "Epoch 1/5\n"
     ]
    },
    {
     "name": "stderr",
     "output_type": "stream",
     "text": [
      "/opt/miniconda3/lib/python3.12/site-packages/keras/src/layers/core/embedding.py:90: UserWarning: Argument `input_length` is deprecated. Just remove it.\n",
      "  warnings.warn(\n"
     ]
    },
    {
     "name": "stdout",
     "output_type": "stream",
     "text": [
      "\u001b[1m1660/1660\u001b[0m \u001b[32m━━━━━━━━━━━━━━━━━━━━\u001b[0m\u001b[37m\u001b[0m \u001b[1m20s\u001b[0m 12ms/step - accuracy: 0.2710 - loss: 2.4152\n",
      "Epoch 2/5\n",
      "\u001b[1m1660/1660\u001b[0m \u001b[32m━━━━━━━━━━━━━━━━━━━━\u001b[0m\u001b[37m\u001b[0m \u001b[1m18s\u001b[0m 11ms/step - accuracy: 0.3366 - loss: 2.1331\n",
      "Epoch 3/5\n",
      "\u001b[1m1660/1660\u001b[0m \u001b[32m━━━━━━━━━━━━━━━━━━━━\u001b[0m\u001b[37m\u001b[0m \u001b[1m18s\u001b[0m 11ms/step - accuracy: 0.3521 - loss: 2.0649\n",
      "Epoch 4/5\n",
      "\u001b[1m1660/1660\u001b[0m \u001b[32m━━━━━━━━━━━━━━━━━━━━\u001b[0m\u001b[37m\u001b[0m \u001b[1m19s\u001b[0m 11ms/step - accuracy: 0.3622 - loss: 2.0340\n",
      "Epoch 5/5\n",
      "\u001b[1m1660/1660\u001b[0m \u001b[32m━━━━━━━━━━━━━━━━━━━━\u001b[0m\u001b[37m\u001b[0m \u001b[1m19s\u001b[0m 11ms/step - accuracy: 0.3717 - loss: 1.9934\n"
     ]
    },
    {
     "data": {
      "text/plain": [
       "<keras.src.callbacks.history.History at 0x167888830>"
      ]
     },
     "execution_count": 38,
     "metadata": {},
     "output_type": "execute_result"
    }
   ],
   "source": [
    "input_seqs, target_seqs = create_sequences(filtered_names)\n",
    "\n",
    "max_seq_len = max(len(seq) for seq in input_seqs)\n",
    "X = pad_sequences(input_seqs, maxlen=max_seq_len, padding='pre')\n",
    "y = np.array(target_seqs)\n",
    "\n",
    "model_4 = Sequential([\n",
    "    Embedding(vocab_size, 128, input_length=max_len),\n",
    "    GRU(128, return_sequences=False),\n",
    "    Dropout(0.2),\n",
    "    Dense(vocab_size, activation='softmax')\n",
    "])\n",
    "\n",
    "model_4.compile(loss=SparseCategoricalCrossentropy(from_logits=False), optimizer='adam', metrics=['accuracy'])\n",
    "\n",
    "model_4.fit(X, y, epochs=5, batch_size=64)"
   ]
  },
  {
   "cell_type": "code",
   "execution_count": 39,
   "id": "258abad6-9d0b-46d9-b558-184b6ece6be8",
   "metadata": {},
   "outputs": [],
   "source": [
    "def generate_name_new():\n",
    "    name = random.choice(['a', 'm', 'z'])\n",
    "    total_length = random.randint(min_len, max_len)\n",
    "    \n",
    "    for _ in range(total_length):\n",
    "        input_seq = encode_name(name)\n",
    "        padded = pad_sequences([input_seq], maxlen=max_seq_len, padding='pre')\n",
    "        \n",
    "        pred = model_4.predict(padded, verbose=0)\n",
    "        \n",
    "        # Keep sampling until valid (non-zero) index is chosen, to avoid generating 0 which is reserved for padding\n",
    "        while True:\n",
    "            next_idx = tf.random.categorical(tf.math.log(pred), num_samples=1).numpy()[0][0]\n",
    "            if next_idx > 0:\n",
    "                break\n",
    "                \n",
    "        next_char = idx2char[next_idx]\n",
    "        name += next_char\n",
    "\n",
    "    return name"
   ]
  },
  {
   "cell_type": "code",
   "execution_count": 40,
   "id": "5f37db9b-0a13-4164-bd0a-24dbf2aa77dc",
   "metadata": {},
   "outputs": [],
   "source": [
    "names_50 = [generate_name_new() for _ in range(50)]"
   ]
  },
  {
   "cell_type": "code",
   "execution_count": 41,
   "id": "51909425-8cea-45e8-8fc2-b40844044c9d",
   "metadata": {},
   "outputs": [],
   "source": [
    "def compute_perplexity(name, model, max_seq_len, char2idx):\n",
    "    name = name.lower()\n",
    "    input_seq = [char2idx[c] for c in name[:-1] if c in char2idx]\n",
    "    target_seq = [char2idx[c] for c in name[1:] if c in char2idx]\n",
    "    \n",
    "    padded_input = pad_sequences([input_seq], maxlen=max_seq_len, padding='pre')\n",
    "    preds = model.predict(padded_input, verbose=0)[0]\n",
    "    \n",
    "    log_probs = []\n",
    "    for i, target_idx in enumerate(target_seq):\n",
    "        if i >= len(input_seq):\n",
    "            break\n",
    "        prob = preds[target_idx]\n",
    "        log_probs.append(np.log(prob + 1e-10))  # to avoid log(0), adding 1e-10\n",
    "    \n",
    "    if not log_probs:\n",
    "        return float('inf')\n",
    "    \n",
    "    avg_neg_log_likelihood = -np.mean(log_probs)\n",
    "    return np.exp(avg_neg_log_likelihood)"
   ]
  },
  {
   "cell_type": "code",
   "execution_count": 42,
   "id": "96c9c8cc-e4ee-4161-b171-86d6d7cfce5f",
   "metadata": {},
   "outputs": [],
   "source": [
    "perplexities = [compute_perplexity(name, model_4, max_seq_len, char2idx) for name in names_50]"
   ]
  },
  {
   "cell_type": "code",
   "execution_count": 43,
   "id": "5f5b4577-8bb9-454c-8502-a2151291ca96",
   "metadata": {},
   "outputs": [],
   "source": [
    "df = pd.DataFrame({'names':names_50, 'perplexity_score':perplexities})"
   ]
  },
  {
   "cell_type": "code",
   "execution_count": 44,
   "id": "de12587c-b6c9-4da3-a4db-450efdfa5d8a",
   "metadata": {},
   "outputs": [
    {
     "data": {
      "text/html": [
       "<div>\n",
       "<style scoped>\n",
       "    .dataframe tbody tr th:only-of-type {\n",
       "        vertical-align: middle;\n",
       "    }\n",
       "\n",
       "    .dataframe tbody tr th {\n",
       "        vertical-align: top;\n",
       "    }\n",
       "\n",
       "    .dataframe thead th {\n",
       "        text-align: right;\n",
       "    }\n",
       "</style>\n",
       "<table border=\"1\" class=\"dataframe\">\n",
       "  <thead>\n",
       "    <tr style=\"text-align: right;\">\n",
       "      <th></th>\n",
       "      <th>names</th>\n",
       "      <th>perplexity_score</th>\n",
       "    </tr>\n",
       "  </thead>\n",
       "  <tbody>\n",
       "    <tr>\n",
       "      <th>28</th>\n",
       "      <td>meri</td>\n",
       "      <td>6.997201</td>\n",
       "    </tr>\n",
       "    <tr>\n",
       "      <th>14</th>\n",
       "      <td>malayieh</td>\n",
       "      <td>14.976866</td>\n",
       "    </tr>\n",
       "    <tr>\n",
       "      <th>25</th>\n",
       "      <td>zor</td>\n",
       "      <td>15.991076</td>\n",
       "    </tr>\n",
       "    <tr>\n",
       "      <th>0</th>\n",
       "      <td>muhsadelee</td>\n",
       "      <td>18.017290</td>\n",
       "    </tr>\n",
       "    <tr>\n",
       "      <th>10</th>\n",
       "      <td>maurianahahm</td>\n",
       "      <td>18.367105</td>\n",
       "    </tr>\n",
       "    <tr>\n",
       "      <th>27</th>\n",
       "      <td>mayreynnethel</td>\n",
       "      <td>19.101870</td>\n",
       "    </tr>\n",
       "    <tr>\n",
       "      <th>44</th>\n",
       "      <td>zyzarea</td>\n",
       "      <td>20.142406</td>\n",
       "    </tr>\n",
       "    <tr>\n",
       "      <th>37</th>\n",
       "      <td>almeyriashieshal</td>\n",
       "      <td>23.383713</td>\n",
       "    </tr>\n",
       "    <tr>\n",
       "      <th>21</th>\n",
       "      <td>ziahiahanas</td>\n",
       "      <td>24.007229</td>\n",
       "    </tr>\n",
       "    <tr>\n",
       "      <th>47</th>\n",
       "      <td>merriceale</td>\n",
       "      <td>29.627455</td>\n",
       "    </tr>\n",
       "    <tr>\n",
       "      <th>34</th>\n",
       "      <td>zyin</td>\n",
       "      <td>30.056423</td>\n",
       "    </tr>\n",
       "    <tr>\n",
       "      <th>46</th>\n",
       "      <td>zolahahimir</td>\n",
       "      <td>31.244549</td>\n",
       "    </tr>\n",
       "    <tr>\n",
       "      <th>29</th>\n",
       "      <td>margeriateneld</td>\n",
       "      <td>32.838715</td>\n",
       "    </tr>\n",
       "    <tr>\n",
       "      <th>33</th>\n",
       "      <td>zorahyahnahahe</td>\n",
       "      <td>34.418377</td>\n",
       "    </tr>\n",
       "    <tr>\n",
       "      <th>23</th>\n",
       "      <td>mais</td>\n",
       "      <td>34.530548</td>\n",
       "    </tr>\n",
       "    <tr>\n",
       "      <th>49</th>\n",
       "      <td>maryde</td>\n",
       "      <td>34.720654</td>\n",
       "    </tr>\n",
       "    <tr>\n",
       "      <th>15</th>\n",
       "      <td>zaive</td>\n",
       "      <td>34.768688</td>\n",
       "    </tr>\n",
       "    <tr>\n",
       "      <th>40</th>\n",
       "      <td>zavaryaha</td>\n",
       "      <td>35.381542</td>\n",
       "    </tr>\n",
       "    <tr>\n",
       "      <th>30</th>\n",
       "      <td>maroceanthanaell</td>\n",
       "      <td>37.089626</td>\n",
       "    </tr>\n",
       "    <tr>\n",
       "      <th>39</th>\n",
       "      <td>alberez</td>\n",
       "      <td>39.341263</td>\n",
       "    </tr>\n",
       "    <tr>\n",
       "      <th>22</th>\n",
       "      <td>azoriana</td>\n",
       "      <td>40.927502</td>\n",
       "    </tr>\n",
       "    <tr>\n",
       "      <th>24</th>\n",
       "      <td>zarizayahnaphua</td>\n",
       "      <td>40.966297</td>\n",
       "    </tr>\n",
       "    <tr>\n",
       "      <th>38</th>\n",
       "      <td>avalaynuheahm</td>\n",
       "      <td>42.323643</td>\n",
       "    </tr>\n",
       "    <tr>\n",
       "      <th>1</th>\n",
       "      <td>mit</td>\n",
       "      <td>43.004341</td>\n",
       "    </tr>\n",
       "    <tr>\n",
       "      <th>13</th>\n",
       "      <td>aselynopenitesa</td>\n",
       "      <td>45.227535</td>\n",
       "    </tr>\n",
       "    <tr>\n",
       "      <th>4</th>\n",
       "      <td>maleagharmeria</td>\n",
       "      <td>47.353638</td>\n",
       "    </tr>\n",
       "    <tr>\n",
       "      <th>31</th>\n",
       "      <td>marimahleighan</td>\n",
       "      <td>49.076775</td>\n",
       "    </tr>\n",
       "    <tr>\n",
       "      <th>18</th>\n",
       "      <td>zelindalian</td>\n",
       "      <td>53.986771</td>\n",
       "    </tr>\n",
       "    <tr>\n",
       "      <th>20</th>\n",
       "      <td>andryannes</td>\n",
       "      <td>56.186394</td>\n",
       "    </tr>\n",
       "    <tr>\n",
       "      <th>7</th>\n",
       "      <td>alestyshand</td>\n",
       "      <td>59.575249</td>\n",
       "    </tr>\n",
       "    <tr>\n",
       "      <th>17</th>\n",
       "      <td>mayetoelyneth</td>\n",
       "      <td>61.644978</td>\n",
       "    </tr>\n",
       "    <tr>\n",
       "      <th>43</th>\n",
       "      <td>akyrhsidhandelit</td>\n",
       "      <td>61.823750</td>\n",
       "    </tr>\n",
       "    <tr>\n",
       "      <th>11</th>\n",
       "      <td>adfoikehmerit</td>\n",
       "      <td>62.787750</td>\n",
       "    </tr>\n",
       "    <tr>\n",
       "      <th>32</th>\n",
       "      <td>zaxii</td>\n",
       "      <td>63.272297</td>\n",
       "    </tr>\n",
       "    <tr>\n",
       "      <th>12</th>\n",
       "      <td>arvitaniez</td>\n",
       "      <td>70.980515</td>\n",
       "    </tr>\n",
       "    <tr>\n",
       "      <th>16</th>\n",
       "      <td>zaiyunnest</td>\n",
       "      <td>72.250687</td>\n",
       "    </tr>\n",
       "    <tr>\n",
       "      <th>41</th>\n",
       "      <td>mandr</td>\n",
       "      <td>81.603577</td>\n",
       "    </tr>\n",
       "    <tr>\n",
       "      <th>8</th>\n",
       "      <td>zayrahijahmm</td>\n",
       "      <td>81.792633</td>\n",
       "    </tr>\n",
       "    <tr>\n",
       "      <th>36</th>\n",
       "      <td>mijailynnet</td>\n",
       "      <td>82.323212</td>\n",
       "    </tr>\n",
       "    <tr>\n",
       "      <th>3</th>\n",
       "      <td>adrya</td>\n",
       "      <td>83.161774</td>\n",
       "    </tr>\n",
       "    <tr>\n",
       "      <th>42</th>\n",
       "      <td>zanandayzahli</td>\n",
       "      <td>87.168007</td>\n",
       "    </tr>\n",
       "    <tr>\n",
       "      <th>9</th>\n",
       "      <td>zalonieshgenetto</td>\n",
       "      <td>104.076813</td>\n",
       "    </tr>\n",
       "    <tr>\n",
       "      <th>2</th>\n",
       "      <td>zyb</td>\n",
       "      <td>104.652840</td>\n",
       "    </tr>\n",
       "    <tr>\n",
       "      <th>26</th>\n",
       "      <td>aidenjave</td>\n",
       "      <td>115.682434</td>\n",
       "    </tr>\n",
       "    <tr>\n",
       "      <th>35</th>\n",
       "      <td>myirannette</td>\n",
       "      <td>117.943138</td>\n",
       "    </tr>\n",
       "    <tr>\n",
       "      <th>45</th>\n",
       "      <td>arlousth</td>\n",
       "      <td>118.206635</td>\n",
       "    </tr>\n",
       "    <tr>\n",
       "      <th>48</th>\n",
       "      <td>merdalieghenet</td>\n",
       "      <td>124.250771</td>\n",
       "    </tr>\n",
       "    <tr>\n",
       "      <th>5</th>\n",
       "      <td>zacheriyah</td>\n",
       "      <td>137.894623</td>\n",
       "    </tr>\n",
       "    <tr>\n",
       "      <th>6</th>\n",
       "      <td>aradelys</td>\n",
       "      <td>162.916748</td>\n",
       "    </tr>\n",
       "    <tr>\n",
       "      <th>19</th>\n",
       "      <td>zixeyaziah</td>\n",
       "      <td>224.739777</td>\n",
       "    </tr>\n",
       "  </tbody>\n",
       "</table>\n",
       "</div>"
      ],
      "text/plain": [
       "               names  perplexity_score\n",
       "28              meri          6.997201\n",
       "14          malayieh         14.976866\n",
       "25               zor         15.991076\n",
       "0         muhsadelee         18.017290\n",
       "10      maurianahahm         18.367105\n",
       "27     mayreynnethel         19.101870\n",
       "44           zyzarea         20.142406\n",
       "37  almeyriashieshal         23.383713\n",
       "21       ziahiahanas         24.007229\n",
       "47        merriceale         29.627455\n",
       "34              zyin         30.056423\n",
       "46       zolahahimir         31.244549\n",
       "29    margeriateneld         32.838715\n",
       "33    zorahyahnahahe         34.418377\n",
       "23              mais         34.530548\n",
       "49            maryde         34.720654\n",
       "15             zaive         34.768688\n",
       "40         zavaryaha         35.381542\n",
       "30  maroceanthanaell         37.089626\n",
       "39           alberez         39.341263\n",
       "22          azoriana         40.927502\n",
       "24   zarizayahnaphua         40.966297\n",
       "38     avalaynuheahm         42.323643\n",
       "1                mit         43.004341\n",
       "13   aselynopenitesa         45.227535\n",
       "4     maleagharmeria         47.353638\n",
       "31    marimahleighan         49.076775\n",
       "18       zelindalian         53.986771\n",
       "20        andryannes         56.186394\n",
       "7        alestyshand         59.575249\n",
       "17     mayetoelyneth         61.644978\n",
       "43  akyrhsidhandelit         61.823750\n",
       "11     adfoikehmerit         62.787750\n",
       "32             zaxii         63.272297\n",
       "12        arvitaniez         70.980515\n",
       "16        zaiyunnest         72.250687\n",
       "41             mandr         81.603577\n",
       "8       zayrahijahmm         81.792633\n",
       "36       mijailynnet         82.323212\n",
       "3              adrya         83.161774\n",
       "42     zanandayzahli         87.168007\n",
       "9   zalonieshgenetto        104.076813\n",
       "2                zyb        104.652840\n",
       "26         aidenjave        115.682434\n",
       "35       myirannette        117.943138\n",
       "45          arlousth        118.206635\n",
       "48    merdalieghenet        124.250771\n",
       "5         zacheriyah        137.894623\n",
       "6           aradelys        162.916748\n",
       "19        zixeyaziah        224.739777"
      ]
     },
     "execution_count": 44,
     "metadata": {},
     "output_type": "execute_result"
    }
   ],
   "source": [
    "df.sort_values(by='perplexity_score')"
   ]
  },
  {
   "cell_type": "code",
   "execution_count": 45,
   "id": "1dc1e964-af1c-48f5-af98-0e8a66a12924",
   "metadata": {},
   "outputs": [],
   "source": [
    "# Lower the perplexity score, the realistic the name is. As per the model's training on real names."
   ]
  },
  {
   "cell_type": "code",
   "execution_count": null,
   "id": "72ff441f-c111-4d6a-a0cb-0ed7b13d3b37",
   "metadata": {},
   "outputs": [],
   "source": []
  },
  {
   "cell_type": "code",
   "execution_count": null,
   "id": "eaf7b3ff-1e6c-4897-a835-b67a655a033f",
   "metadata": {},
   "outputs": [],
   "source": []
  }
 ],
 "metadata": {
  "kernelspec": {
   "display_name": "Python 3 (ipykernel)",
   "language": "python",
   "name": "python3"
  },
  "language_info": {
   "codemirror_mode": {
    "name": "ipython",
    "version": 3
   },
   "file_extension": ".py",
   "mimetype": "text/x-python",
   "name": "python",
   "nbconvert_exporter": "python",
   "pygments_lexer": "ipython3",
   "version": "3.12.2"
  }
 },
 "nbformat": 4,
 "nbformat_minor": 5
}
